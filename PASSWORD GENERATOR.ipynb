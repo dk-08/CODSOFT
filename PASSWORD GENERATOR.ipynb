{
 "cells": [
  {
   "cell_type": "code",
   "execution_count": 1,
   "metadata": {},
   "outputs": [
    {
     "name": "stdout",
     "output_type": "stream",
     "text": [
      "The maximum length of the desired password is:  5\n",
      "The generated password is:  PJb5_\n"
     ]
    }
   ],
   "source": [
    "import random \n",
    "import array \n",
    "max_len=int(input(\"what is the desired length of the password:\"))\n",
    "print(\"The maximum length of the desired password is: \",max_len)\n",
    "\n",
    "dig=['0','1','2','3','4','5','6','7','8','9']\n",
    "up_case=['A','B','C','D','E','F','G','H','I','J','K','M','N','O','P','Q','R','S','T','U','V','W','X','Y','Z']\n",
    "low_case=['a','b','c','d','e','f','g','h','i','j','k','m','n','o','p','q','r','s','t','u','v','w','x','y','z']\n",
    "special_dig=['!','@','#','$','%','^','&','*','(',')','_']\n",
    "list1= dig + up_case + low_case + special_dig\n",
    "\n",
    "random_dig= random.choice(dig)\n",
    "random_up_case= random.choice(up_case)\n",
    "random_low_case= random.choice(low_case)\n",
    "random_special_dig= random.choice(special_dig)\n",
    "list2= random_dig + random_up_case + random_low_case + random_special_dig\n",
    "\n",
    "for i in range (max_len-4):\n",
    "    list2 += random.choice(list1)\n",
    "    temp=array.array('u',list2)\n",
    "    random.shuffle(temp)\n",
    "pwd=\"\"\n",
    "for j in temp:\n",
    "    pwd += j\n",
    "print(\"The generated password is: \",pwd)"
   ]
  }
 ],
 "metadata": {
  "kernelspec": {
   "display_name": "Python 3",
   "language": "python",
   "name": "python3"
  },
  "language_info": {
   "codemirror_mode": {
    "name": "ipython",
    "version": 3
   },
   "file_extension": ".py",
   "mimetype": "text/x-python",
   "name": "python",
   "nbconvert_exporter": "python",
   "pygments_lexer": "ipython3",
   "version": "3.11.4"
  },
  "orig_nbformat": 4
 },
 "nbformat": 4,
 "nbformat_minor": 2
}
