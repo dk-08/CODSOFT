{
 "cells": [
  {
   "attachments": {},
   "cell_type": "markdown",
   "metadata": {},
   "source": [
    "CALCULATOR"
   ]
  },
  {
   "cell_type": "code",
   "execution_count": 1,
   "metadata": {},
   "outputs": [],
   "source": [
    "from tkinter import *\n",
    "root = Tk()\n",
    "root.title(\"Simple Calculator\") #title of the interface\n",
    "e=Entry(root,width=60,borderwidth=7)\n",
    "e.grid(row=0,column=0,columnspan=4,padx=10,pady=10)\n",
    "\n",
    "def click(n):\n",
    "    current=e.get()\n",
    "    e.delete(0,END)\n",
    "    e.insert(0,str(current) + str(n))\n",
    "def add():\n",
    "    first_num=e.get()\n",
    "    global f_num\n",
    "    global math\n",
    "    math=\"addition\"\n",
    "    f_num = int(first_num)\n",
    "    e.delete(0,END)\n",
    "def clear():\n",
    "    e.delete(0,END)\n",
    "\n",
    "def subtract():\n",
    "    first_num=e.get()\n",
    "    global f_num\n",
    "    global math\n",
    "    math=\"subtract\"\n",
    "    f_num = int(first_num)\n",
    "    e.delete(0,END)\n",
    "def multiply():\n",
    "    first_num=e.get()\n",
    "    global f_num\n",
    "    global math\n",
    "    math=\"multiply\"\n",
    "    f_num = int(first_num)\n",
    "    e.delete(0,END)\n",
    "def divide():\n",
    "    first_num=e.get()\n",
    "    global f_num\n",
    "    global math\n",
    "    math=\"divide\"\n",
    "    f_num = int(first_num)\n",
    "    e.delete(0,END)\n",
    "def equal():\n",
    "    second_num=e.get()\n",
    "    e.delete(0,END)\n",
    "    if math == \"addition\":\n",
    "        e.insert(0, f_num +int(second_num))\n",
    "    elif math == \"subtract\":\n",
    "        e.insert(0,f_num-int(second_num))\n",
    "    elif math == \"multiply\" :\n",
    "        e.insert(0, f_num * int(second_num))\n",
    "    elif math == \"divide\":\n",
    "        e.insert(0,f_num/(int(second_num)))\n",
    "\n",
    "button1=Button(root, text=\"1\",padx=40,pady=20,command= lambda: click(1)).grid(row=3, column=0)\n",
    "button2=Button(root, text=\"2\",padx=40,pady=20,command= lambda: click(2)).grid(row=3, column=1)\n",
    "button3=Button(root, text=\"3\",padx=40,pady=20,command= lambda: click(3)).grid(row=3, column=2)\n",
    "button4=Button(root, text=\"4\",padx=40,pady=20,command= lambda: click(4)).grid(row=2, column=0)\n",
    "button5=Button(root, text=\"5\",padx=40,pady=20,command= lambda: click(5)).grid(row=2, column=1)\n",
    "button6=Button(root, text=\"6\",padx=40,pady=20,command= lambda: click(6)).grid(row=2, column=2)\n",
    "button7=Button(root, text=\"7\",padx=40,pady=20,command= lambda: click(7)).grid(row=1, column=0)\n",
    "button8=Button(root, text=\"8\",padx=40,pady=20,command= lambda: click(8)).grid(row=1, column=1)\n",
    "button9=Button(root, text=\"9\",padx=40,pady=20,command= lambda: click(9)).grid(row=1, column=2)\n",
    "button0=Button(root, text=\"0\",padx=40,pady=20,command= lambda: click(0)).grid(row=4, column=1)\n",
    "button_add=Button(root, text=\"+\",padx=40,pady=20,command= add).grid(row=4, column=3)\n",
    "button_min=Button(root, text=\"-\",padx=41,pady=20,command=subtract).grid(row=3, column=3)\n",
    "button_mult=Button(root, text=\"*\",padx=40,pady=20,command= multiply).grid(row=2, column=3)\n",
    "button_div=Button(root, text=\"/\",padx=40,pady=20,command=divide).grid(row=1, column=3)\n",
    "button_clear=Button(root, text=\"Clear\",padx=30,pady=20,command=clear).grid(row=4, column=0)\n",
    "button_equal=Button(root, text=\"=\",padx=39,pady=20,command=equal).grid(row=4, column=2)\n",
    "root.mainloop()"
   ]
  },
  {
   "cell_type": "code",
   "execution_count": null,
   "metadata": {},
   "outputs": [],
   "source": []
  }
 ],
 "metadata": {
  "kernelspec": {
   "display_name": "Python 3",
   "language": "python",
   "name": "python3"
  },
  "language_info": {
   "codemirror_mode": {
    "name": "ipython",
    "version": 3
   },
   "file_extension": ".py",
   "mimetype": "text/x-python",
   "name": "python",
   "nbconvert_exporter": "python",
   "pygments_lexer": "ipython3",
   "version": "3.11.4"
  },
  "orig_nbformat": 4
 },
 "nbformat": 4,
 "nbformat_minor": 2
}
